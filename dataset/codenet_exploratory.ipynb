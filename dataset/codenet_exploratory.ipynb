{
 "cells": [
  {
   "cell_type": "code",
   "execution_count": 1,
   "id": "8408e6d9",
   "metadata": {},
   "outputs": [
    {
     "name": "stderr",
     "output_type": "stream",
     "text": [
      "/Users/harshit/Library/Caches/pypoetry/virtualenvs/ai-code-reviewer-e5MqfTei-py3.10/lib/python3.10/site-packages/tqdm/auto.py:21: TqdmWarning: IProgress not found. Please update jupyter and ipywidgets. See https://ipywidgets.readthedocs.io/en/stable/user_install.html\n",
      "  from .autonotebook import tqdm as notebook_tqdm\n"
     ]
    }
   ],
   "source": [
    "from datasets import load_dataset\n",
    "import pandas as pd\n",
    "import re"
   ]
  },
  {
   "cell_type": "code",
   "execution_count": 3,
   "id": "b24552f3",
   "metadata": {},
   "outputs": [
    {
     "name": "stderr",
     "output_type": "stream",
     "text": [
      "Downloading readme: 100%|██████████| 2.65k/2.65k [00:01<00:00, 2.22kB/s]\n",
      "Downloading data: 100%|██████████| 155M/155M [00:51<00:00, 3.03MB/s] \n",
      "Downloading data: 100%|██████████| 139M/139M [00:52<00:00, 2.68MB/s] \n",
      "Downloading data: 100%|██████████| 153M/153M [00:50<00:00, 3.06MB/s] \n",
      "Downloading data: 100%|██████████| 151M/151M [00:46<00:00, 3.28MB/s] \n",
      "Generating train split: 100%|██████████| 455243/455243 [00:05<00:00, 88944.98 examples/s] \n"
     ]
    }
   ],
   "source": [
    "dataset_name = \"Nan-Do/code-search-net-python\"\n",
    "dataset = load_dataset(dataset_name, split=\"train\") # We'll just use the training split for now"
   ]
  },
  {
   "cell_type": "code",
   "execution_count": null,
   "id": "296d9b5f",
   "metadata": {},
   "outputs": [],
   "source": [
    "# Convert to DataFrame\n",
    "df = pd.DataFrame(dataset)\n",
    "\n",
    "# Display the first few rows\n",
    "df.head()"
   ]
  }
 ],
 "metadata": {
  "kernelspec": {
   "display_name": "ai-code-reviewer-e5MqfTei-py3.10",
   "language": "python",
   "name": "python3"
  },
  "language_info": {
   "codemirror_mode": {
    "name": "ipython",
    "version": 3
   },
   "file_extension": ".py",
   "mimetype": "text/x-python",
   "name": "python",
   "nbconvert_exporter": "python",
   "pygments_lexer": "ipython3",
   "version": "3.10.15"
  }
 },
 "nbformat": 4,
 "nbformat_minor": 5
}
